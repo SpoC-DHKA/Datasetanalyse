{
  "cells": [
    {
      "metadata": {
        "trusted": true
      },
      "cell_type": "code",
      "source": "%matplotlib inline\n%config InlineBackend.figure_format = 'retina'\n\nimport numpy as np\nimport pandas as pd\nimport matplotlib.pyplot as plt\nimport seaborn as sns\nfrom sklearn.model_selection import train_test_split\nfrom sklearn.ensemble import RandomForestClassifier\nfrom sklearn.metrics import accuracy_score\nfrom sklearn.metrics import confusion_matrix\nfrom sklearn import neighbors\nfrom sklearn.decomposition import PCA\nfrom sklearn import preprocessing\nfrom sklearn.model_selection import cross_val_score",
      "execution_count": 97,
      "outputs": []
    },
    {
      "metadata": {},
      "cell_type": "markdown",
      "source": "# Import Data"
    },
    {
      "metadata": {
        "trusted": true
      },
      "cell_type": "code",
      "source": "df = pd.read_csv(\"/home/nbuser/data.csv\", delimiter=\"\t\", index_col=0, low_memory=True)",
      "execution_count": 98,
      "outputs": []
    },
    {
      "metadata": {},
      "cell_type": "markdown",
      "source": "# First Glance "
    },
    {
      "metadata": {
        "trusted": true
      },
      "cell_type": "code",
      "source": "df.head(5)",
      "execution_count": 99,
      "outputs": [
        {
          "output_type": "execute_result",
          "execution_count": 99,
          "data": {
            "text/html": "<div>\n<style scoped>\n    .dataframe tbody tr th:only-of-type {\n        vertical-align: middle;\n    }\n\n    .dataframe tbody tr th {\n        vertical-align: top;\n    }\n\n    .dataframe thead th {\n        text-align: right;\n    }\n</style>\n<table border=\"1\" class=\"dataframe\">\n  <thead>\n    <tr style=\"text-align: right;\">\n      <th></th>\n      <th>prompt</th>\n      <th>waveId</th>\n      <th>transcription</th>\n      <th>recResult</th>\n      <th>language</th>\n      <th>meaning</th>\n      <th>edition</th>\n      <th>category</th>\n    </tr>\n    <tr>\n      <th>id</th>\n      <th></th>\n      <th></th>\n      <th></th>\n      <th></th>\n      <th></th>\n      <th></th>\n      <th></th>\n      <th></th>\n    </tr>\n  </thead>\n  <tbody>\n    <tr>\n      <th>1</th>\n      <td>Frag: Zimmer für 3 Nächte</td>\n      <td>user-8_2014-05-11_17-57-14_utt_007</td>\n      <td>*silence</td>\n      <td>NaN</td>\n      <td>incorrect</td>\n      <td>incorrect</td>\n      <td>ST2</td>\n      <td>A</td>\n    </tr>\n    <tr>\n      <th>2</th>\n      <td>Frag: Zimmer für 3 Nächte</td>\n      <td>user-8_2014-05-11_17-57-14_utt_008</td>\n      <td>*silence</td>\n      <td>NaN</td>\n      <td>incorrect</td>\n      <td>incorrect</td>\n      <td>ST2</td>\n      <td>A</td>\n    </tr>\n    <tr>\n      <th>3</th>\n      <td>Frag: Zimmer für 3 Nächte</td>\n      <td>user-8_2014-05-11_17-57-14_utt_009</td>\n      <td>*silence</td>\n      <td>NaN</td>\n      <td>incorrect</td>\n      <td>incorrect</td>\n      <td>ST2</td>\n      <td>A</td>\n    </tr>\n    <tr>\n      <th>4</th>\n      <td>Frag: Einzelzimmer</td>\n      <td>user-8_2014-05-11_17-57-14_utt_011</td>\n      <td>single room</td>\n      <td>single room</td>\n      <td>correct</td>\n      <td>correct</td>\n      <td>ST2</td>\n      <td>A</td>\n    </tr>\n    <tr>\n      <th>5</th>\n      <td>Frag: Einzelzimmer</td>\n      <td>user-8_2014-05-11_17-57-14_utt_012</td>\n      <td>*silence</td>\n      <td>NaN</td>\n      <td>incorrect</td>\n      <td>incorrect</td>\n      <td>ST2</td>\n      <td>A</td>\n    </tr>\n  </tbody>\n</table>\n</div>",
            "text/plain": "                       prompt                              waveId  \\\nid                                                                  \n1   Frag: Zimmer für 3 Nächte  user-8_2014-05-11_17-57-14_utt_007   \n2   Frag: Zimmer für 3 Nächte  user-8_2014-05-11_17-57-14_utt_008   \n3   Frag: Zimmer für 3 Nächte  user-8_2014-05-11_17-57-14_utt_009   \n4          Frag: Einzelzimmer  user-8_2014-05-11_17-57-14_utt_011   \n5          Frag: Einzelzimmer  user-8_2014-05-11_17-57-14_utt_012   \n\n   transcription    recResult   language    meaning edition category  \nid                                                                    \n1       *silence          NaN  incorrect  incorrect     ST2        A  \n2       *silence          NaN  incorrect  incorrect     ST2        A  \n3       *silence          NaN  incorrect  incorrect     ST2        A  \n4    single room  single room    correct    correct     ST2        A  \n5       *silence          NaN  incorrect  incorrect     ST2        A  "
          },
          "metadata": {}
        }
      ]
    },
    {
      "metadata": {
        "trusted": true
      },
      "cell_type": "code",
      "source": "df.describe()",
      "execution_count": 100,
      "outputs": [
        {
          "output_type": "execute_result",
          "execution_count": 100,
          "data": {
            "text/html": "<div>\n<style scoped>\n    .dataframe tbody tr th:only-of-type {\n        vertical-align: middle;\n    }\n\n    .dataframe tbody tr th {\n        vertical-align: top;\n    }\n\n    .dataframe thead th {\n        text-align: right;\n    }\n</style>\n<table border=\"1\" class=\"dataframe\">\n  <thead>\n    <tr style=\"text-align: right;\">\n      <th></th>\n      <th>prompt</th>\n      <th>waveId</th>\n      <th>transcription</th>\n      <th>recResult</th>\n      <th>language</th>\n      <th>meaning</th>\n      <th>edition</th>\n      <th>category</th>\n    </tr>\n  </thead>\n  <tbody>\n    <tr>\n      <th>count</th>\n      <td>11919</td>\n      <td>11919</td>\n      <td>11919</td>\n      <td>11628</td>\n      <td>11919</td>\n      <td>11919</td>\n      <td>11919</td>\n      <td>11919</td>\n    </tr>\n    <tr>\n      <th>unique</th>\n      <td>443</td>\n      <td>11919</td>\n      <td>4394</td>\n      <td>3725</td>\n      <td>2</td>\n      <td>2</td>\n      <td>2</td>\n      <td>3</td>\n    </tr>\n    <tr>\n      <th>top</th>\n      <td>Sag: Ich habe keine Reservation</td>\n      <td>user-57_2014-10-30_18-43-25_utt_007</td>\n      <td>*silence</td>\n      <td>i don't have a reservation</td>\n      <td>correct</td>\n      <td>correct</td>\n      <td>ST2</td>\n      <td>A</td>\n    </tr>\n    <tr>\n      <th>freq</th>\n      <td>482</td>\n      <td>1</td>\n      <td>390</td>\n      <td>82</td>\n      <td>8297</td>\n      <td>10188</td>\n      <td>6698</td>\n      <td>10747</td>\n    </tr>\n  </tbody>\n</table>\n</div>",
            "text/plain": "                                 prompt                               waveId  \\\ncount                             11919                                11919   \nunique                              443                                11919   \ntop     Sag: Ich habe keine Reservation  user-57_2014-10-30_18-43-25_utt_007   \nfreq                                482                                    1   \n\n       transcription                   recResult language  meaning edition  \\\ncount          11919                       11628    11919    11919   11919   \nunique          4394                        3725        2        2       2   \ntop         *silence  i don't have a reservation  correct  correct     ST2   \nfreq             390                          82     8297    10188    6698   \n\n       category  \ncount     11919  \nunique        3  \ntop           A  \nfreq      10747  "
          },
          "metadata": {}
        }
      ]
    },
    {
      "metadata": {
        "trusted": true
      },
      "cell_type": "code",
      "source": "mapping = {'correct': 1, 'incorrect': 0}\nbidf = df.replace({'language': mapping, 'meaning': mapping})",
      "execution_count": 101,
      "outputs": []
    },
    {
      "metadata": {},
      "cell_type": "markdown",
      "source": "## Number of correct meaning in total"
    },
    {
      "metadata": {
        "trusted": true
      },
      "cell_type": "code",
      "source": "bidf['meaning'].sum()",
      "execution_count": 102,
      "outputs": [
        {
          "output_type": "execute_result",
          "execution_count": 102,
          "data": {
            "text/plain": "10188"
          },
          "metadata": {}
        }
      ]
    },
    {
      "metadata": {},
      "cell_type": "markdown",
      "source": "## Number of correct languge in total"
    },
    {
      "metadata": {
        "trusted": true
      },
      "cell_type": "code",
      "source": "bidf['language'].sum()",
      "execution_count": 103,
      "outputs": [
        {
          "output_type": "execute_result",
          "execution_count": 103,
          "data": {
            "text/plain": "8297"
          },
          "metadata": {}
        }
      ]
    },
    {
      "metadata": {},
      "cell_type": "markdown",
      "source": "## Percentage of entries with wrong meaning and wrong languge"
    },
    {
      "metadata": {
        "trusted": true
      },
      "cell_type": "code",
      "source": "ww = (bidf.loc[bidf['meaning'] == 0].loc[bidf['language'] == 0]['language'].count() / bidf['language'].count()) * 100\nww",
      "execution_count": 104,
      "outputs": [
        {
          "output_type": "execute_result",
          "execution_count": 104,
          "data": {
            "text/plain": "14.51464048997399"
          },
          "metadata": {}
        }
      ]
    },
    {
      "metadata": {},
      "cell_type": "markdown",
      "source": "## Percentage of entries with correct meaning and correct languge"
    },
    {
      "metadata": {
        "trusted": true,
        "scrolled": false
      },
      "cell_type": "code",
      "source": "cc = (bidf.loc[bidf['meaning'] == 1].loc[bidf['language'] == 1]['language'].count() / bidf['language'].count()) * 100\ncc",
      "execution_count": 105,
      "outputs": [
        {
          "output_type": "execute_result",
          "execution_count": 105,
          "data": {
            "text/plain": "69.60315462706603"
          },
          "metadata": {}
        }
      ]
    },
    {
      "metadata": {},
      "cell_type": "markdown",
      "source": "## Percentage of entries with wrong meaning and correct languge"
    },
    {
      "metadata": {
        "trusted": true
      },
      "cell_type": "code",
      "source": "wc = (bidf.loc[bidf['meaning'] == 0].loc[bidf['language'] == 1]['language'].count() / bidf['language'].count()) * 100\nwc",
      "execution_count": 106,
      "outputs": [
        {
          "output_type": "execute_result",
          "execution_count": 106,
          "data": {
            "text/plain": "0.008389965601141035"
          },
          "metadata": {}
        }
      ]
    },
    {
      "metadata": {},
      "cell_type": "markdown",
      "source": "## Percentage of entries with correct meaning and wrong languge"
    },
    {
      "metadata": {
        "trusted": true
      },
      "cell_type": "code",
      "source": "cw = (bidf.loc[bidf['meaning'] == 1].loc[bidf['language'] == 0]['language'].count() / bidf['language'].count()) * 100\ncw",
      "execution_count": 107,
      "outputs": [
        {
          "output_type": "execute_result",
          "execution_count": 107,
          "data": {
            "text/plain": "15.873814917358839"
          },
          "metadata": {}
        }
      ]
    },
    {
      "metadata": {
        "trusted": true
      },
      "cell_type": "code",
      "source": "cc + ww + wc + cw",
      "execution_count": 108,
      "outputs": [
        {
          "output_type": "execute_result",
          "execution_count": 108,
          "data": {
            "text/plain": "100.0"
          },
          "metadata": {}
        }
      ]
    },
    {
      "metadata": {},
      "cell_type": "markdown",
      "source": "# Metrics by Prompt"
    },
    {
      "metadata": {},
      "cell_type": "markdown",
      "source": "## Ratio of correct language per prompt"
    },
    {
      "metadata": {
        "trusted": true
      },
      "cell_type": "code",
      "source": "a = bidf.groupby('prompt')['language'].count()\nb = bidf.groupby('prompt')['language'].sum()\n\ncorretLRatio =  b / a",
      "execution_count": 109,
      "outputs": []
    },
    {
      "metadata": {
        "trusted": true
      },
      "cell_type": "code",
      "source": "corretLRatio[corretLRatio < 0.4].dropna()",
      "execution_count": 110,
      "outputs": [
        {
          "output_type": "execute_result",
          "execution_count": 110,
          "data": {
            "text/plain": "prompt\nFrag: 1 Ticket für das Phantom der Oper                    0.214286\nFrag: 2 Tickets für König der Löwen                        0.375000\nFrag: 2 Tickets für Montagabend                            0.333333\nFrag: 2 Tickets für das Phantom der Oper                   0.153846\nFrag: 2 Tickets für heute Abend                            0.333333\nFrag: 2 Tickets für morgen Abend                           0.000000\nFrag: 3 Tickets für Dienstagabend                          0.333333\nFrag: 3 Tickets für König der Löwen                        0.166667\nFrag: 4 Tickets für König der Löwen                        0.250000\nFrag: 4 Tickets für morgen Abend                           0.000000\nFrag: Wie viel kostet die Hose?                            0.000000\nFrag: Wie viel kostet die Jeans?                           0.083333\nFrag: Wo ist Big Ben?                                      0.384615\nFrag: Wo ist Piccadilly Circus?                            0.172414\nFrag: Wo ist die Oxford Street?                            0.193548\nSag du möchtest nicht: diese Hosen                         0.250000\nSag: Big Ben ist neben den Houses of Parliament            0.227273\nSag: Die Hauptstadt von Portugal ist Lissabon              0.250000\nSag: Die Hauptstadt von Österreich ist Wien                0.111111\nSag: Die Hose ist zu teuer                                 0.166667\nSag: Die Jeans ist zu teuer                                0.312500\nSag: Die Schweiz ist nicht in Afrika                       0.333333\nSag: Dies ist zu weit                                      0.107143\nSag: Eine Reduzierung ist akzeptabel                       0.000000\nSag: Ich bezahle mit Kreditkarte                           0.176471\nSag: Ich gehe in die Ferien                                0.186813\nSag: Ich habe nur grosse Noten                             0.205128\nSag: Ich möchte am Dienstagabend abreisen                  0.200000\nSag: Ich möchte am Dienstagabend gehen                     0.200000\nSag: Ich möchte am Dienstagnachmittag abreisen             0.250000\nSag: Ich möchte am Donnerstag abreisen                     0.000000\nSag: Ich möchte am Donnerstagabend abreisen                0.083333\nSag: Ich möchte am Donnerstagabend gehen                   0.357143\nSag: Ich möchte am Donnerstagmorgen abreisen               0.300000\nSag: Ich möchte am Freitag abreisen                        0.250000\nSag: Ich möchte am Mittwochmorgen abreisen                 0.250000\nSag: Ich möchte am Sonntagnachmittag abreisen              0.333333\nSag: Ich möchte hinten sitzen                              0.076923\nSag: Ich möchte mit Kreditkarte bezahlen                   0.309446\nSag: Ich möchte um 12 Uhr morgen abreisen                  0.125000\nSag: Ich möchte um 14 Uhr morgen abreisen                  0.235294\nSag: Ich möchte um 17 Uhr morgen abreisen                  0.333333\nSag: Ich warte auf das bestellte Essen                     0.000000\nSag: Im Zimmer hat es kein Duschgel                        0.157895\nSag: Kann ich mit Kreditkarte bezahlen                     0.181818\nSag: Marble Arch ist gegenüber dem Hyde Park               0.312500\nSag: Saint Pauls Cathedral ist nahe der Bank of England    0.240000\nSag: ich kaufe diese Tickets                               0.000000\nName: language, dtype: float64"
          },
          "metadata": {}
        }
      ]
    },
    {
      "metadata": {},
      "cell_type": "markdown",
      "source": "## Ratio of correct meaning per prompt"
    },
    {
      "metadata": {
        "trusted": true
      },
      "cell_type": "code",
      "source": "a = bidf.groupby('prompt')['meaning'].count()\nb = bidf.groupby('prompt')['meaning'].sum()\n\ncorretMRatio =  b / a",
      "execution_count": 111,
      "outputs": []
    },
    {
      "metadata": {
        "trusted": true
      },
      "cell_type": "code",
      "source": "corretLRatio[corretMRatio < 0.6].dropna()",
      "execution_count": 112,
      "outputs": [
        {
          "output_type": "execute_result",
          "execution_count": 112,
          "data": {
            "text/plain": "prompt\nFrag: 2 Tickets für Montagabend                   0.333333\nFrag: 2 Tickets für morgen Abend                  0.000000\nFrag: 3 Tickets für Dienstagabend                 0.333333\nFrag: 3 Tickets für Donnerstagabend               0.400000\nFrag: 3 Tickets für Samstagabend                  0.500000\nFrag: 4 Tickets für Donnerstagabend               0.500000\nFrag: 4 Tickets für morgen Abend                  0.000000\nFrag: Bohnen                                      0.500000\nFrag: Gibt es einen Lebensmittelladen?            0.436508\nFrag: Karrotenkuchen                              0.583333\nFrag: Trifle                                      0.571429\nFrag: ein Ticket für Dienstagabend                0.571429\nFrag: ein Ticket für Donnerstagabend              0.444444\nFrag: ein schwarzes Sweatshirt                    0.500000\nFrag: eine Cola                                   0.478261\nFrag: einen gemischten Salat                      0.571429\nFrag: etwas Kartoffelstock                        0.523810\nSag: Das WC ist dreckig                           0.538462\nSag: Die Hauptstadt von Österreich ist Wien       0.111111\nSag: Die Schweiz ist nicht in Afrika              0.333333\nSag: Dies ist zu weit                             0.107143\nSag: Ich gehe in die Ferien                       0.186813\nSag: Ich habe 3 ältere Schwestern                 0.571429\nSag: Ich habe nur grosse Noten                    0.205128\nSag: Ich möchte am Dienstagmorgen abreisen        0.500000\nSag: Ich möchte am Dienstagnachmittag abreisen    0.250000\nSag: Ich möchte am Donnerstag abreisen            0.000000\nSag: Ich möchte am Donnerstagabend abreisen       0.083333\nSag: Ich möchte am Freitagnachmittag abreisen     0.500000\nSag: Ich möchte hinten sitzen                     0.076923\nSag: Ich möchte um 12 Uhr morgen abreisen         0.125000\nSag: Ich möchte um 14 Uhr morgen abreisen         0.235294\nSag: Ich warte auf das bestellte Essen            0.000000\nSag: Italien ist in Europa                        0.500000\nSag: Marble Arch ist gegenüber dem Hyde Park      0.312500\nSag: ich kaufe diese Tickets                      0.000000\nName: language, dtype: float64"
          },
          "metadata": {}
        }
      ]
    }
  ],
  "metadata": {
    "kernelspec": {
      "name": "python36",
      "display_name": "Python 3.6",
      "language": "python"
    },
    "language_info": {
      "mimetype": "text/x-python",
      "nbconvert_exporter": "python",
      "name": "python",
      "pygments_lexer": "ipython3",
      "version": "3.6.6",
      "file_extension": ".py",
      "codemirror_mode": {
        "version": 3,
        "name": "ipython"
      }
    }
  },
  "nbformat": 4,
  "nbformat_minor": 1
}